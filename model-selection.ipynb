{
  "cells": [
    {
      "cell_type": "code",
      "execution_count": null,
      "id": "d37ff281",
      "metadata": {
        "id": "d37ff281"
      },
      "outputs": [],
      "source": [
        "import numpy as np\n",
        "import pandas as pd\n",
        "\n",
        "from sklearn.model_selection import KFold, cross_val_score\n",
        "from sklearn.linear_model import LinearRegression, Ridge, Lasso\n",
        "from sklearn.pipeline import Pipeline\n",
        "from sklearn.preprocessing import OneHotEncoder, StandardScaler, OrdinalEncoder\n",
        "from sklearn.compose import ColumnTransformer\n",
        "from sklearn.svm import SVR\n",
        "\n",
        "from sklearn.model_selection import train_test_split\n",
        "from sklearn.metrics import mean_absolute_error\n",
        "\n",
        "from sklearn.decomposition import PCA\n",
        "from sklearn.tree import DecisionTreeRegressor\n",
        "from sklearn.ensemble import RandomForestRegressor, ExtraTreesRegressor, GradientBoostingRegressor, AdaBoostRegressor\n",
        "from sklearn.neural_network import MLPRegressor\n",
        "from xgboost import XGBRegressor"
      ]
    },
    {
      "cell_type": "code",
      "execution_count": null,
      "id": "80eb1b6e",
      "metadata": {
        "id": "80eb1b6e"
      },
      "outputs": [],
      "source": [
        "df = pd.read_csv('gurgaon_properties_post_feature_selection_v2.csv')"
      ]
    },
    {
      "cell_type": "code",
      "execution_count": null,
      "id": "a07f9fb5",
      "metadata": {
        "id": "a07f9fb5"
      },
      "outputs": [],
      "source": [
        "df.head()"
      ]
    },
    {
      "cell_type": "code",
      "execution_count": null,
      "id": "0399fef1",
      "metadata": {
        "id": "0399fef1"
      },
      "outputs": [],
      "source": [
        "df['furnishing_type'].value_counts()"
      ]
    },
    {
      "cell_type": "code",
      "execution_count": null,
      "id": "d91ed92e",
      "metadata": {
        "id": "d91ed92e"
      },
      "outputs": [],
      "source": [
        "# 0 -> unfurnished\n",
        "# 1 -> semifurnished\n",
        "# 2 -> furnished\n",
        "df['furnishing_type'] = df['furnishing_type'].replace({0.0:'unfurnished',1.0:'semifurnished',2.0:'furnished'})"
      ]
    },
    {
      "cell_type": "code",
      "execution_count": null,
      "id": "705dba8f",
      "metadata": {
        "id": "705dba8f"
      },
      "outputs": [],
      "source": [
        "df.head()"
      ]
    },
    {
      "cell_type": "code",
      "execution_count": null,
      "id": "b2da31ad",
      "metadata": {
        "id": "b2da31ad"
      },
      "outputs": [],
      "source": [
        "X = df.drop(columns=['price'])\n",
        "y = df['price']"
      ]
    },
    {
      "cell_type": "code",
      "execution_count": null,
      "id": "15996e23",
      "metadata": {
        "id": "15996e23"
      },
      "outputs": [],
      "source": [
        "# Applying the log1p transformation to the target variable\n",
        "y_transformed = np.log1p(y)"
      ]
    },
    {
      "cell_type": "markdown",
      "id": "a517f036",
      "metadata": {
        "id": "a517f036"
      },
      "source": [
        "### Ordinal Encoding"
      ]
    },
    {
      "cell_type": "code",
      "execution_count": null,
      "id": "4eeb02e8",
      "metadata": {
        "id": "4eeb02e8"
      },
      "outputs": [],
      "source": [
        "columns_to_encode = ['property_type','sector', 'balcony', 'agePossession', 'furnishing_type', 'luxury_category', 'floor_category']"
      ]
    },
    {
      "cell_type": "code",
      "execution_count": null,
      "id": "05b6dfb3",
      "metadata": {
        "id": "05b6dfb3"
      },
      "outputs": [],
      "source": [
        "# Creating a column transformer for preprocessing\n",
        "preprocessor = ColumnTransformer(\n",
        "    transformers=[\n",
        "        ('num', StandardScaler(), ['bedRoom', 'bathroom', 'built_up_area', 'servant room', 'store room']),\n",
        "        ('cat', OrdinalEncoder(), columns_to_encode)\n",
        "    ],\n",
        "    remainder='passthrough'\n",
        ")"
      ]
    },
    {
      "cell_type": "code",
      "execution_count": null,
      "id": "7d54aa51",
      "metadata": {
        "id": "7d54aa51"
      },
      "outputs": [],
      "source": [
        "# Creating a pipeline\n",
        "pipeline = Pipeline([\n",
        "    ('preprocessor', preprocessor),\n",
        "    ('regressor', LinearRegression())\n",
        "])"
      ]
    },
    {
      "cell_type": "code",
      "execution_count": null,
      "id": "d1964a83",
      "metadata": {
        "id": "d1964a83"
      },
      "outputs": [],
      "source": [
        "# K-fold cross-validation\n",
        "kfold = KFold(n_splits=10, shuffle=True, random_state=42)\n",
        "scores = cross_val_score(pipeline, X, y_transformed, cv=kfold, scoring='r2')"
      ]
    },
    {
      "cell_type": "code",
      "execution_count": null,
      "id": "e56f149e",
      "metadata": {
        "id": "e56f149e"
      },
      "outputs": [],
      "source": [
        "scores.mean(),scores.std()"
      ]
    },
    {
      "cell_type": "code",
      "execution_count": null,
      "id": "5d2e1b72",
      "metadata": {
        "id": "5d2e1b72"
      },
      "outputs": [],
      "source": [
        "X_train, X_test, y_train, y_test = train_test_split(X,y_transformed,test_size=0.2,random_state=42)"
      ]
    },
    {
      "cell_type": "code",
      "execution_count": null,
      "id": "c1cc86ee",
      "metadata": {
        "id": "c1cc86ee"
      },
      "outputs": [],
      "source": [
        "pipeline.fit(X_train,y_train)"
      ]
    },
    {
      "cell_type": "code",
      "execution_count": null,
      "id": "1fbcc89d",
      "metadata": {
        "id": "1fbcc89d"
      },
      "outputs": [],
      "source": [
        "y_pred = pipeline.predict(X_test)"
      ]
    },
    {
      "cell_type": "code",
      "execution_count": null,
      "id": "1aae4a7c",
      "metadata": {
        "id": "1aae4a7c"
      },
      "outputs": [],
      "source": [
        "y_pred = np.expm1(y_pred)"
      ]
    },
    {
      "cell_type": "code",
      "execution_count": null,
      "id": "fcc15b04",
      "metadata": {
        "id": "fcc15b04"
      },
      "outputs": [],
      "source": [
        "mean_absolute_error(np.expm1(y_test),y_pred)"
      ]
    },
    {
      "cell_type": "code",
      "execution_count": null,
      "id": "2051ad70",
      "metadata": {
        "id": "2051ad70"
      },
      "outputs": [],
      "source": [
        "def scorer(model_name, model):\n",
        "\n",
        "    output = []\n",
        "\n",
        "    output.append(model_name)\n",
        "\n",
        "    pipeline = Pipeline([\n",
        "        ('preprocessor', preprocessor),\n",
        "        ('regressor', model)\n",
        "    ])\n",
        "\n",
        "    # K-fold cross-validation\n",
        "    kfold = KFold(n_splits=10, shuffle=True, random_state=42)\n",
        "    scores = cross_val_score(pipeline, X, y_transformed, cv=kfold, scoring='r2')\n",
        "\n",
        "    output.append(scores.mean())\n",
        "\n",
        "    X_train, X_test, y_train, y_test = train_test_split(X,y_transformed,test_size=0.2,random_state=42)\n",
        "\n",
        "    pipeline.fit(X_train,y_train)\n",
        "\n",
        "    y_pred = pipeline.predict(X_test)\n",
        "\n",
        "    y_pred = np.expm1(y_pred)\n",
        "\n",
        "    output.append(mean_absolute_error(np.expm1(y_test),y_pred))\n",
        "\n",
        "    return output\n",
        ""
      ]
    },
    {
      "cell_type": "code",
      "execution_count": null,
      "id": "dca9553e",
      "metadata": {
        "id": "dca9553e"
      },
      "outputs": [],
      "source": [
        "model_dict = {\n",
        "    'linear_reg':LinearRegression(),\n",
        "    'svr':SVR(),\n",
        "    'ridge':Ridge(),\n",
        "    'LASSO':Lasso(),\n",
        "    'decision tree': DecisionTreeRegressor(),\n",
        "    'random forest':RandomForestRegressor(),\n",
        "    'extra trees': ExtraTreesRegressor(),\n",
        "    'gradient boosting': GradientBoostingRegressor(),\n",
        "    'adaboost': AdaBoostRegressor(),\n",
        "    'mlp': MLPRegressor(),\n",
        "    'xgboost':XGBRegressor()\n",
        "}"
      ]
    },
    {
      "cell_type": "code",
      "execution_count": null,
      "id": "b8a9d1d4",
      "metadata": {
        "id": "b8a9d1d4"
      },
      "outputs": [],
      "source": [
        "model_output = []\n",
        "for model_name,model in model_dict.items():\n",
        "    model_output.append(scorer(model_name, model))"
      ]
    },
    {
      "cell_type": "code",
      "execution_count": null,
      "id": "fab0a513",
      "metadata": {
        "id": "fab0a513"
      },
      "outputs": [],
      "source": [
        "model_output"
      ]
    },
    {
      "cell_type": "code",
      "execution_count": null,
      "id": "ac628d76",
      "metadata": {
        "id": "ac628d76"
      },
      "outputs": [],
      "source": [
        "model_df = pd.DataFrame(model_output, columns=['name','r2','mae'])"
      ]
    },
    {
      "cell_type": "code",
      "execution_count": null,
      "id": "143ff7b2",
      "metadata": {
        "id": "143ff7b2"
      },
      "outputs": [],
      "source": [
        "model_df.sort_values(['mae'])"
      ]
    },
    {
      "cell_type": "markdown",
      "id": "60ca5697",
      "metadata": {
        "id": "60ca5697"
      },
      "source": [
        "### OneHotEncoding"
      ]
    },
    {
      "cell_type": "code",
      "execution_count": null,
      "id": "50130423",
      "metadata": {
        "id": "50130423"
      },
      "outputs": [],
      "source": [
        "# Creating a column transformer for preprocessing\n",
        "preprocessor = ColumnTransformer(\n",
        "    transformers=[\n",
        "        ('num', StandardScaler(), ['bedRoom', 'bathroom', 'built_up_area', 'servant room', 'store room']),\n",
        "        ('cat', OrdinalEncoder(), columns_to_encode),\n",
        "        ('cat1',OneHotEncoder(drop='first'),['sector','agePossession','furnishing_type'])\n",
        "    ],\n",
        "    remainder='passthrough'\n",
        ")"
      ]
    },
    {
      "cell_type": "code",
      "execution_count": null,
      "id": "861b508b",
      "metadata": {
        "id": "861b508b"
      },
      "outputs": [],
      "source": [
        "# Creating a pipeline\n",
        "pipeline = Pipeline([\n",
        "    ('preprocessor', preprocessor),\n",
        "    ('regressor', LinearRegression())\n",
        "])"
      ]
    },
    {
      "cell_type": "code",
      "execution_count": null,
      "id": "d9455a15",
      "metadata": {
        "id": "d9455a15"
      },
      "outputs": [],
      "source": [
        "# K-fold cross-validation\n",
        "kfold = KFold(n_splits=10, shuffle=True, random_state=42)\n",
        "scores = cross_val_score(pipeline, X, y_transformed, cv=kfold, scoring='r2')"
      ]
    },
    {
      "cell_type": "code",
      "execution_count": null,
      "id": "5d8dc0df",
      "metadata": {
        "id": "5d8dc0df"
      },
      "outputs": [],
      "source": [
        "scores.mean()"
      ]
    },
    {
      "cell_type": "code",
      "execution_count": null,
      "id": "6ff52ada",
      "metadata": {
        "id": "6ff52ada"
      },
      "outputs": [],
      "source": [
        "scores.std()"
      ]
    },
    {
      "cell_type": "code",
      "execution_count": null,
      "id": "594d17c7",
      "metadata": {
        "id": "594d17c7"
      },
      "outputs": [],
      "source": [
        "X_train, X_test, y_train, y_test = train_test_split(X,y_transformed,test_size=0.2,random_state=42)"
      ]
    },
    {
      "cell_type": "code",
      "execution_count": null,
      "id": "6c182b60",
      "metadata": {
        "id": "6c182b60"
      },
      "outputs": [],
      "source": [
        "pipeline.fit(X_train,y_train)"
      ]
    },
    {
      "cell_type": "code",
      "execution_count": null,
      "id": "f50b7f8f",
      "metadata": {
        "id": "f50b7f8f"
      },
      "outputs": [],
      "source": [
        "y_pred = pipeline.predict(X_test)"
      ]
    },
    {
      "cell_type": "code",
      "execution_count": null,
      "id": "56328d6a",
      "metadata": {
        "id": "56328d6a"
      },
      "outputs": [],
      "source": [
        "y_pred = np.expm1(y_pred)"
      ]
    },
    {
      "cell_type": "code",
      "execution_count": null,
      "id": "47cb17aa",
      "metadata": {
        "id": "47cb17aa"
      },
      "outputs": [],
      "source": [
        "mean_absolute_error(np.expm1(y_test),y_pred)"
      ]
    },
    {
      "cell_type": "code",
      "execution_count": null,
      "id": "16b2d377",
      "metadata": {
        "id": "16b2d377"
      },
      "outputs": [],
      "source": [
        "def scorer(model_name, model):\n",
        "\n",
        "    output = []\n",
        "\n",
        "    output.append(model_name)\n",
        "\n",
        "    pipeline = Pipeline([\n",
        "        ('preprocessor', preprocessor),\n",
        "        ('regressor', model)\n",
        "    ])\n",
        "\n",
        "    # K-fold cross-validation\n",
        "    kfold = KFold(n_splits=10, shuffle=True, random_state=42)\n",
        "    scores = cross_val_score(pipeline, X, y_transformed, cv=kfold, scoring='r2')\n",
        "\n",
        "    output.append(scores.mean())\n",
        "\n",
        "    X_train, X_test, y_train, y_test = train_test_split(X,y_transformed,test_size=0.2,random_state=42)\n",
        "\n",
        "    pipeline.fit(X_train,y_train)\n",
        "\n",
        "    y_pred = pipeline.predict(X_test)\n",
        "\n",
        "    y_pred = np.expm1(y_pred)\n",
        "\n",
        "    output.append(mean_absolute_error(np.expm1(y_test),y_pred))\n",
        "\n",
        "    return output\n",
        ""
      ]
    },
    {
      "cell_type": "code",
      "execution_count": null,
      "id": "3fdef9c9",
      "metadata": {
        "id": "3fdef9c9"
      },
      "outputs": [],
      "source": [
        "model_dict = {\n",
        "    'linear_reg':LinearRegression(),\n",
        "    'svr':SVR(),\n",
        "    'ridge':Ridge(),\n",
        "    'LASSO':Lasso(),\n",
        "    'decision tree': DecisionTreeRegressor(),\n",
        "    'random forest':RandomForestRegressor(),\n",
        "    'extra trees': ExtraTreesRegressor(),\n",
        "    'gradient boosting': GradientBoostingRegressor(),\n",
        "    'adaboost': AdaBoostRegressor(),\n",
        "    'mlp': MLPRegressor(),\n",
        "    'xgboost':XGBRegressor()\n",
        "}"
      ]
    },
    {
      "cell_type": "code",
      "execution_count": null,
      "id": "bd43a9ac",
      "metadata": {
        "id": "bd43a9ac"
      },
      "outputs": [],
      "source": [
        "model_output = []\n",
        "for model_name,model in model_dict.items():\n",
        "    model_output.append(scorer(model_name, model))"
      ]
    },
    {
      "cell_type": "code",
      "execution_count": null,
      "id": "99f87bf1",
      "metadata": {
        "id": "99f87bf1"
      },
      "outputs": [],
      "source": [
        "model_df = pd.DataFrame(model_output, columns=['name','r2','mae'])"
      ]
    },
    {
      "cell_type": "code",
      "execution_count": null,
      "id": "077430c8",
      "metadata": {
        "id": "077430c8"
      },
      "outputs": [],
      "source": [
        "model_df.sort_values(['mae'])"
      ]
    },
    {
      "cell_type": "markdown",
      "id": "407728e2",
      "metadata": {
        "id": "407728e2"
      },
      "source": [
        "### OneHotEncoding With PCA"
      ]
    },
    {
      "cell_type": "code",
      "execution_count": null,
      "id": "b29b48c6",
      "metadata": {
        "id": "b29b48c6"
      },
      "outputs": [],
      "source": [
        "# Creating a column transformer for preprocessing\n",
        "preprocessor = ColumnTransformer(\n",
        "    transformers=[\n",
        "        ('num', StandardScaler(), ['bedRoom', 'bathroom', 'built_up_area', 'servant room', 'store room']),\n",
        "        ('cat', OrdinalEncoder(), columns_to_encode),\n",
        "        ('cat1',OneHotEncoder(drop='first',sparse_output=False),['sector','agePossession'])\n",
        "    ],\n",
        "    remainder='passthrough'\n",
        ")"
      ]
    },
    {
      "cell_type": "code",
      "execution_count": null,
      "id": "f1d0099e",
      "metadata": {
        "id": "f1d0099e"
      },
      "outputs": [],
      "source": [
        "# Creating a pipeline\n",
        "pipeline = Pipeline([\n",
        "    ('preprocessor', preprocessor),\n",
        "    ('pca', PCA(n_components=0.95)),\n",
        "    ('regressor', LinearRegression())\n",
        "])"
      ]
    },
    {
      "cell_type": "code",
      "execution_count": null,
      "id": "3024633c",
      "metadata": {
        "id": "3024633c"
      },
      "outputs": [],
      "source": [
        "# K-fold cross-validation\n",
        "kfold = KFold(n_splits=10, shuffle=True, random_state=42)\n",
        "scores = cross_val_score(pipeline, X, y_transformed, cv=kfold, scoring='r2')"
      ]
    },
    {
      "cell_type": "code",
      "execution_count": null,
      "id": "7df1dbeb",
      "metadata": {
        "id": "7df1dbeb"
      },
      "outputs": [],
      "source": [
        "scores.mean()"
      ]
    },
    {
      "cell_type": "code",
      "execution_count": null,
      "id": "134c3769",
      "metadata": {
        "id": "134c3769"
      },
      "outputs": [],
      "source": [
        "scores.std()"
      ]
    },
    {
      "cell_type": "code",
      "execution_count": null,
      "id": "704ba719",
      "metadata": {
        "id": "704ba719"
      },
      "outputs": [],
      "source": [
        "def scorer(model_name, model):\n",
        "\n",
        "    output = []\n",
        "\n",
        "    output.append(model_name)\n",
        "\n",
        "    pipeline = Pipeline([\n",
        "        ('preprocessor', preprocessor),\n",
        "        ('pca', PCA(n_components=0.95)),\n",
        "        ('regressor', model)\n",
        "    ])\n",
        "\n",
        "    # K-fold cross-validation\n",
        "    kfold = KFold(n_splits=10, shuffle=True, random_state=42)\n",
        "    scores = cross_val_score(pipeline, X, y_transformed, cv=kfold, scoring='r2')\n",
        "\n",
        "    output.append(scores.mean())\n",
        "\n",
        "    X_train, X_test, y_train, y_test = train_test_split(X,y_transformed,test_size=0.2,random_state=42)\n",
        "\n",
        "    pipeline.fit(X_train,y_train)\n",
        "\n",
        "    y_pred = pipeline.predict(X_test)\n",
        "\n",
        "    y_pred = np.expm1(y_pred)\n",
        "\n",
        "    output.append(mean_absolute_error(np.expm1(y_test),y_pred))\n",
        "\n",
        "    return output\n",
        ""
      ]
    },
    {
      "cell_type": "code",
      "execution_count": null,
      "id": "ad4ffc60",
      "metadata": {
        "id": "ad4ffc60"
      },
      "outputs": [],
      "source": [
        "model_dict = {\n",
        "    'linear_reg':LinearRegression(),\n",
        "    'svr':SVR(),\n",
        "    'ridge':Ridge(),\n",
        "    'LASSO':Lasso(),\n",
        "    'decision tree': DecisionTreeRegressor(),\n",
        "    'random forest':RandomForestRegressor(),\n",
        "    'extra trees': ExtraTreesRegressor(),\n",
        "    'gradient boosting': GradientBoostingRegressor(),\n",
        "    'adaboost': AdaBoostRegressor(),\n",
        "    'mlp': MLPRegressor(),\n",
        "    'xgboost':XGBRegressor()\n",
        "}"
      ]
    },
    {
      "cell_type": "code",
      "execution_count": null,
      "id": "ea3ac5ea",
      "metadata": {
        "id": "ea3ac5ea"
      },
      "outputs": [],
      "source": [
        "model_output = []\n",
        "for model_name,model in model_dict.items():\n",
        "    model_output.append(scorer(model_name, model))"
      ]
    },
    {
      "cell_type": "code",
      "execution_count": null,
      "id": "edc7a23d",
      "metadata": {
        "id": "edc7a23d"
      },
      "outputs": [],
      "source": [
        "model_df = pd.DataFrame(model_output, columns=['name','r2','mae'])"
      ]
    },
    {
      "cell_type": "code",
      "execution_count": null,
      "id": "a757b875",
      "metadata": {
        "id": "a757b875"
      },
      "outputs": [],
      "source": [
        "model_df.sort_values(['mae'])"
      ]
    },
    {
      "cell_type": "markdown",
      "id": "4c447af1",
      "metadata": {
        "id": "4c447af1"
      },
      "source": [
        "### Target Encoder"
      ]
    },
    {
      "cell_type": "code",
      "execution_count": null,
      "id": "579e9512",
      "metadata": {
        "id": "579e9512"
      },
      "outputs": [],
      "source": [
        "import category_encoders as ce\n",
        "\n",
        "columns_to_encode = ['property_type','sector', 'balcony', 'agePossession', 'furnishing_type', 'luxury_category', 'floor_category']\n",
        "\n",
        "# Creating a column transformer for preprocessing\n",
        "preprocessor = ColumnTransformer(\n",
        "    transformers=[\n",
        "        ('num', StandardScaler(), ['bedRoom', 'bathroom', 'built_up_area', 'servant room', 'store room']),\n",
        "        ('cat', OrdinalEncoder(), columns_to_encode),\n",
        "        ('cat1',OneHotEncoder(drop='first',sparse_output=False),['agePossession']),\n",
        "        ('target_enc', ce.TargetEncoder(), ['sector'])\n",
        "    ],\n",
        "    remainder='passthrough'\n",
        ")"
      ]
    },
    {
      "cell_type": "code",
      "execution_count": null,
      "id": "3b45ab99",
      "metadata": {
        "id": "3b45ab99"
      },
      "outputs": [],
      "source": [
        "!pip install category_encoders"
      ]
    },
    {
      "cell_type": "code",
      "execution_count": null,
      "id": "6bfed857",
      "metadata": {
        "id": "6bfed857"
      },
      "outputs": [],
      "source": [
        "# Creating a pipeline\n",
        "pipeline = Pipeline([\n",
        "    ('preprocessor', preprocessor),\n",
        "    ('regressor', LinearRegression())\n",
        "])"
      ]
    },
    {
      "cell_type": "code",
      "execution_count": null,
      "id": "cab63e93",
      "metadata": {
        "id": "cab63e93"
      },
      "outputs": [],
      "source": [
        "# K-fold cross-validation\n",
        "kfold = KFold(n_splits=10, shuffle=True, random_state=42)\n",
        "scores = cross_val_score(pipeline, X, y_transformed, cv=kfold, scoring='r2')"
      ]
    },
    {
      "cell_type": "code",
      "execution_count": null,
      "id": "2cc65244",
      "metadata": {
        "id": "2cc65244"
      },
      "outputs": [],
      "source": [
        "scores.mean(),scores.std()"
      ]
    },
    {
      "cell_type": "code",
      "execution_count": null,
      "id": "4719d291",
      "metadata": {
        "id": "4719d291"
      },
      "outputs": [],
      "source": [
        "def scorer(model_name, model):\n",
        "\n",
        "    output = []\n",
        "\n",
        "    output.append(model_name)\n",
        "\n",
        "    pipeline = Pipeline([\n",
        "        ('preprocessor', preprocessor),\n",
        "        ('regressor', model)\n",
        "    ])\n",
        "\n",
        "    # K-fold cross-validation\n",
        "    kfold = KFold(n_splits=10, shuffle=True, random_state=42)\n",
        "    scores = cross_val_score(pipeline, X, y_transformed, cv=kfold, scoring='r2')\n",
        "\n",
        "    output.append(scores.mean())\n",
        "\n",
        "    X_train, X_test, y_train, y_test = train_test_split(X,y_transformed,test_size=0.2,random_state=42)\n",
        "\n",
        "    pipeline.fit(X_train,y_train)\n",
        "\n",
        "    y_pred = pipeline.predict(X_test)\n",
        "\n",
        "    y_pred = np.expm1(y_pred)\n",
        "\n",
        "    output.append(mean_absolute_error(np.expm1(y_test),y_pred))\n",
        "\n",
        "    return output\n",
        ""
      ]
    },
    {
      "cell_type": "code",
      "execution_count": null,
      "id": "f6d6d178",
      "metadata": {
        "id": "f6d6d178"
      },
      "outputs": [],
      "source": [
        "model_dict = {\n",
        "    'linear_reg':LinearRegression(),\n",
        "    'svr':SVR(),\n",
        "    'ridge':Ridge(),\n",
        "    'LASSO':Lasso(),\n",
        "    'decision tree': DecisionTreeRegressor(),\n",
        "    'random forest':RandomForestRegressor(),\n",
        "    'extra trees': ExtraTreesRegressor(),\n",
        "    'gradient boosting': GradientBoostingRegressor(),\n",
        "    'adaboost': AdaBoostRegressor(),\n",
        "    'mlp': MLPRegressor(),\n",
        "    'xgboost':XGBRegressor()\n",
        "}"
      ]
    },
    {
      "cell_type": "code",
      "execution_count": null,
      "id": "a67db403",
      "metadata": {
        "id": "a67db403"
      },
      "outputs": [],
      "source": [
        "model_output = []\n",
        "for model_name,model in model_dict.items():\n",
        "    model_output.append(scorer(model_name, model))"
      ]
    },
    {
      "cell_type": "code",
      "execution_count": null,
      "id": "7bfdc20f",
      "metadata": {
        "id": "7bfdc20f"
      },
      "outputs": [],
      "source": [
        "model_df = pd.DataFrame(model_output, columns=['name','r2','mae'])"
      ]
    },
    {
      "cell_type": "code",
      "execution_count": null,
      "id": "87e5b032",
      "metadata": {
        "id": "87e5b032"
      },
      "outputs": [],
      "source": [
        "model_df.sort_values(['mae'])"
      ]
    },
    {
      "cell_type": "markdown",
      "id": "31c671e7",
      "metadata": {
        "id": "31c671e7"
      },
      "source": [
        "### Hyperparameter Tuning"
      ]
    },
    {
      "cell_type": "code",
      "execution_count": null,
      "id": "84d0573f",
      "metadata": {
        "id": "84d0573f"
      },
      "outputs": [],
      "source": [
        "from sklearn.model_selection import GridSearchCV"
      ]
    },
    {
      "cell_type": "code",
      "execution_count": null,
      "id": "a81b8e78",
      "metadata": {
        "id": "a81b8e78"
      },
      "outputs": [],
      "source": [
        "param_grid = {\n",
        "    'regressor__n_estimators': [50, 100, 200, 300],\n",
        "    'regressor__max_depth': [None, 10, 20, 30],\n",
        "    'regressor__max_samples':[0.1, 0.25, 0.5, 1.0],\n",
        "    'regressor__max_features': ['auto', 'sqrt']\n",
        "}"
      ]
    },
    {
      "cell_type": "code",
      "execution_count": null,
      "id": "e7397c82",
      "metadata": {
        "id": "e7397c82"
      },
      "outputs": [],
      "source": [
        "columns_to_encode = ['property_type','sector', 'balcony', 'agePossession', 'furnishing_type', 'luxury_category', 'floor_category']\n",
        "\n",
        "# Creating a column transformer for preprocessing\n",
        "preprocessor = ColumnTransformer(\n",
        "    transformers=[\n",
        "        ('num', StandardScaler(), ['bedRoom', 'bathroom', 'built_up_area', 'servant room', 'store room']),\n",
        "        ('cat', OrdinalEncoder(), columns_to_encode),\n",
        "        ('cat1',OneHotEncoder(drop='first',sparse_output=False),['agePossession']),\n",
        "        ('target_enc', ce.TargetEncoder(), ['sector'])\n",
        "    ],\n",
        "    remainder='passthrough'\n",
        ")"
      ]
    },
    {
      "cell_type": "code",
      "execution_count": null,
      "id": "45807e15",
      "metadata": {
        "id": "45807e15"
      },
      "outputs": [],
      "source": [
        "pipeline = Pipeline([\n",
        "    ('preprocessor', preprocessor),\n",
        "    ('regressor', RandomForestRegressor())\n",
        "])"
      ]
    },
    {
      "cell_type": "code",
      "execution_count": null,
      "id": "3287204e",
      "metadata": {
        "id": "3287204e"
      },
      "outputs": [],
      "source": [
        "kfold = KFold(n_splits=10, shuffle=True, random_state=42)"
      ]
    },
    {
      "cell_type": "code",
      "execution_count": null,
      "id": "8a26e17a",
      "metadata": {
        "id": "8a26e17a"
      },
      "outputs": [],
      "source": [
        "search = GridSearchCV(pipeline, param_grid, cv=kfold, scoring='r2', n_jobs=-1, verbose=4)"
      ]
    },
    {
      "cell_type": "code",
      "execution_count": null,
      "id": "6a468e2b",
      "metadata": {
        "id": "6a468e2b"
      },
      "outputs": [],
      "source": [
        "search.fit(X, y_transformed)"
      ]
    },
    {
      "cell_type": "code",
      "execution_count": null,
      "id": "c1e6178b",
      "metadata": {
        "id": "c1e6178b"
      },
      "outputs": [],
      "source": [
        "final_pipe = search.best_estimator_"
      ]
    },
    {
      "cell_type": "code",
      "execution_count": null,
      "id": "76ec1ebc",
      "metadata": {
        "id": "76ec1ebc"
      },
      "outputs": [],
      "source": [
        "search.best_params_"
      ]
    },
    {
      "cell_type": "code",
      "execution_count": null,
      "id": "95dfccee",
      "metadata": {
        "id": "95dfccee"
      },
      "outputs": [],
      "source": [
        "search.best_score_"
      ]
    },
    {
      "cell_type": "code",
      "execution_count": null,
      "id": "6144c01d",
      "metadata": {
        "id": "6144c01d"
      },
      "outputs": [],
      "source": [
        "final_pipe.fit(X,y_transformed)"
      ]
    },
    {
      "cell_type": "markdown",
      "id": "fbf98781",
      "metadata": {
        "id": "fbf98781"
      },
      "source": [
        "### Exporting the model"
      ]
    },
    {
      "cell_type": "code",
      "execution_count": null,
      "id": "042d9738",
      "metadata": {
        "id": "042d9738"
      },
      "outputs": [],
      "source": [
        "preprocessor = ColumnTransformer(\n",
        "    transformers=[\n",
        "        ('num', StandardScaler(), ['bedRoom', 'bathroom', 'built_up_area', 'servant room', 'store room']),\n",
        "        ('cat', OrdinalEncoder(), columns_to_encode),\n",
        "        ('cat1',OneHotEncoder(drop='first',sparse_output=False),['sector','agePossession'])\n",
        "    ],\n",
        "    remainder='passthrough'\n",
        ")"
      ]
    },
    {
      "cell_type": "code",
      "execution_count": null,
      "id": "c4b5c7cd",
      "metadata": {
        "id": "c4b5c7cd"
      },
      "outputs": [],
      "source": [
        "pipeline = Pipeline([\n",
        "    ('preprocessor', preprocessor),\n",
        "    ('regressor', RandomForestRegressor(n_estimators=500))\n",
        "])"
      ]
    },
    {
      "cell_type": "code",
      "execution_count": null,
      "id": "b19d656f",
      "metadata": {
        "id": "b19d656f"
      },
      "outputs": [],
      "source": [
        "pipeline.fit(X,y_transformed)"
      ]
    },
    {
      "cell_type": "code",
      "execution_count": null,
      "id": "1de3fdae",
      "metadata": {
        "id": "1de3fdae"
      },
      "outputs": [],
      "source": [
        "import pickle\n",
        "\n",
        "with open('pipeline.pkl', 'wb') as file:\n",
        "    pickle.dump(pipeline, file)"
      ]
    },
    {
      "cell_type": "code",
      "execution_count": null,
      "id": "9eacedc3",
      "metadata": {
        "id": "9eacedc3"
      },
      "outputs": [],
      "source": [
        "with open('df.pkl', 'wb') as file:\n",
        "    pickle.dump(X, file)"
      ]
    },
    {
      "cell_type": "code",
      "execution_count": null,
      "id": "d4d4ad2f",
      "metadata": {
        "id": "d4d4ad2f"
      },
      "outputs": [],
      "source": [
        "X"
      ]
    },
    {
      "cell_type": "markdown",
      "id": "a627e25e",
      "metadata": {
        "id": "a627e25e"
      },
      "source": [
        "### Trying out the predictions"
      ]
    },
    {
      "cell_type": "code",
      "execution_count": null,
      "id": "74524975",
      "metadata": {
        "id": "74524975"
      },
      "outputs": [],
      "source": [
        "X.columns"
      ]
    },
    {
      "cell_type": "code",
      "execution_count": null,
      "id": "02c770d7",
      "metadata": {
        "id": "02c770d7"
      },
      "outputs": [],
      "source": [
        "X.iloc[0].values"
      ]
    },
    {
      "cell_type": "code",
      "execution_count": null,
      "id": "8562f722",
      "metadata": {
        "id": "8562f722"
      },
      "outputs": [],
      "source": [
        "data = [['house', 'sector 102', 4, 3, '3+', 'New Property', 2750, 0, 0, 'unfurnished', 'Low', 'Low Floor']]\n",
        "columns = ['property_type', 'sector', 'bedRoom', 'bathroom', 'balcony',\n",
        "       'agePossession', 'built_up_area', 'servant room', 'store room',\n",
        "       'furnishing_type', 'luxury_category', 'floor_category']\n",
        "\n",
        "# Convert to DataFrame\n",
        "one_df = pd.DataFrame(data, columns=columns)\n",
        "\n",
        "one_df\n"
      ]
    },
    {
      "cell_type": "code",
      "execution_count": null,
      "id": "b51e7e8b",
      "metadata": {
        "id": "b51e7e8b"
      },
      "outputs": [],
      "source": [
        "np.expm1(pipeline.predict(one_df))"
      ]
    },
    {
      "cell_type": "code",
      "execution_count": null,
      "id": "68314201",
      "metadata": {
        "id": "68314201"
      },
      "outputs": [],
      "source": [
        "X.dtypes"
      ]
    },
    {
      "cell_type": "code",
      "execution_count": null,
      "id": "738dd5fe",
      "metadata": {
        "id": "738dd5fe"
      },
      "outputs": [],
      "source": [
        "sorted(X['sector'].unique().tolist())"
      ]
    },
    {
      "cell_type": "code",
      "execution_count": null,
      "id": "d17c028c",
      "metadata": {
        "id": "d17c028c"
      },
      "outputs": [],
      "source": []
    }
  ],
  "metadata": {
    "kernelspec": {
      "display_name": "Python 3 (ipykernel)",
      "language": "python",
      "name": "python3"
    },
    "language_info": {
      "codemirror_mode": {
        "name": "ipython",
        "version": 3
      },
      "file_extension": ".py",
      "mimetype": "text/x-python",
      "name": "python",
      "nbconvert_exporter": "python",
      "pygments_lexer": "ipython3",
      "version": "3.9.7"
    },
    "colab": {
      "provenance": []
    }
  },
  "nbformat": 4,
  "nbformat_minor": 5
}